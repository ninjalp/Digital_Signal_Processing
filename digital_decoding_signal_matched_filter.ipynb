{
 "cells": [
  {
   "cell_type": "code",
   "execution_count": 16,
   "id": "0b299446",
   "metadata": {},
   "outputs": [
    {
     "data": {
      "text/plain": [
       "112"
      ]
     },
     "execution_count": 16,
     "metadata": {},
     "output_type": "execute_result"
    }
   ],
   "source": [
    "ord(\"p\")"
   ]
  },
  {
   "cell_type": "code",
   "execution_count": 96,
   "id": "52b04a8c",
   "metadata": {},
   "outputs": [
    {
     "data": {
      "text/plain": [
       "'0b1110000'"
      ]
     },
     "execution_count": 96,
     "metadata": {},
     "output_type": "execute_result"
    }
   ],
   "source": [
    "bin(112)"
   ]
  },
  {
   "cell_type": "code",
   "execution_count": 28,
   "id": "42b443ee",
   "metadata": {},
   "outputs": [
    {
     "data": {
      "text/plain": [
       "'0b1100100'"
      ]
     },
     "execution_count": 28,
     "metadata": {},
     "output_type": "execute_result"
    }
   ],
   "source": [
    "bin(100)"
   ]
  },
  {
   "cell_type": "code",
   "execution_count": 78,
   "id": "02847f30",
   "metadata": {},
   "outputs": [],
   "source": [
    "import numpy as np\n",
    "import matplotlib.pyplot as plt"
   ]
  },
  {
   "cell_type": "code",
   "execution_count": 192,
   "id": "30556300",
   "metadata": {},
   "outputs": [],
   "source": [
    " #matched filter:\n",
    "    \n",
    "a=[1,2,42,4,13,1,1]\n",
    "b=[3,13,13,4,12,4,4]\n",
    "a=np.array(a)\n",
    "b=np.array(b)\n",
    "up=(a*b).sum()\n",
    "down=(((a**2).sum())**(1/2))*((b**2).sum())**(1/2)\n",
    "\n",
    "cosfi=up/down\n",
    "key=np.arccos(cosfi)\n",
    "def matchedfilter(a,b):\n",
    "    a=np.array(a) \n",
    "    b=np.array(b)\n",
    "    up=(a*b).sum()\n",
    "    down=(((a**2).sum())**(1/2))*((b**2).sum())**(1/2)\n",
    "    cosfi=up/down\n",
    "    key=np.arccos(cosfi)\n",
    "    return key"
   ]
  },
  {
   "cell_type": "code",
   "execution_count": 80,
   "id": "14280197",
   "metadata": {},
   "outputs": [
    {
     "data": {
      "text/plain": [
       "0.7446781675610349"
      ]
     },
     "execution_count": 80,
     "metadata": {},
     "output_type": "execute_result"
    }
   ],
   "source": [
    "key"
   ]
  },
  {
   "cell_type": "code",
   "execution_count": 93,
   "id": "849c0eb4",
   "metadata": {},
   "outputs": [],
   "source": [
    "pulse0=np.ones(10)\n",
    "örnek=np.arange(0,10,1)\n",
    "pulse1=np.append(np.ones(5),np.ones(5)*-1)"
   ]
  },
  {
   "cell_type": "code",
   "execution_count": 94,
   "id": "6c37497e",
   "metadata": {},
   "outputs": [
    {
     "data": {
      "text/plain": [
       "<StemContainer object of 3 artists>"
      ]
     },
     "execution_count": 94,
     "metadata": {},
     "output_type": "execute_result"
    },
    {
     "data": {
      "image/png": "[encoded data removed]",
      "text/plain": [
       "<Figure size 640x480 with 1 Axes>"
      ]
     },
     "metadata": {},
     "output_type": "display_data"
    }
   ],
   "source": [
    "\n",
    "plt.stem(örnek,pulse0)"
   ]
  },
  {
   "cell_type": "code",
   "execution_count": 95,
   "id": "6064689c",
   "metadata": {},
   "outputs": [
    {
     "data": {
      "text/plain": [
       "<StemContainer object of 3 artists>"
      ]
     },
     "execution_count": 95,
     "metadata": {},
     "output_type": "execute_result"
    },
    {
     "data": {
      "image/png": "[encoded data removed]",
      "text/plain": [
       "<Figure size 640x480 with 1 Axes>"
      ]
     },
     "metadata": {},
     "output_type": "display_data"
    }
   ],
   "source": [
    "plt.stem(örnek,pulse1)"
   ]
  },
  {
   "cell_type": "markdown",
   "id": "2f8bd0bb",
   "metadata": {},
   "source": [
    "# creating data noisy data "
   ]
  },
  {
   "cell_type": "code",
   "execution_count": 179,
   "id": "f25ef216",
   "metadata": {},
   "outputs": [],
   "source": [
    "def addNoise(p,N):\n",
    "    sig=p+0.2*np.random.randn(N)\n",
    "    sig=np.round(sig,2)\n",
    "    return sig"
   ]
  },
  {
   "cell_type": "code",
   "execution_count": 180,
   "id": "c693b4a1",
   "metadata": {},
   "outputs": [],
   "source": [
    "def createSignal(message):\n",
    "    pulse0=np.ones(10)\n",
    "    pulse1=np.append(np.ones(5),np.ones(5)*(-1))\n",
    "    N=pulse1.size\n",
    "    outSignal=np.array([])\n",
    "    for letter in message:\n",
    "        bitstring=bin(ord(letter))\n",
    "        bitstring=bitstring[2:].zfill(8)\n",
    "        for bit in bitstring:\n",
    "            if bit==\"0\":\n",
    "                outSignal=np.append(outSignal,addNoise(pulse0,N))\n",
    "            else:\n",
    "                \n",
    "                outSignal=np.append(outSignal,addNoise(pulse1,N))\n",
    "                \n",
    "    return outSignal"
   ]
  },
  {
   "cell_type": "code",
   "execution_count": 301,
   "id": "a361074b",
   "metadata": {},
   "outputs": [],
   "source": [
    "message=\"ben kemal,geliyorum\""
   ]
  },
  {
   "cell_type": "code",
   "execution_count": 302,
   "id": "0787ff16",
   "metadata": {},
   "outputs": [],
   "source": [
    "OUT=createSignal(message)\n",
    "OUT.tofile(\"geliyor_kılıçdar.csv\", sep=',', format='%.2f')"
   ]
  },
  {
   "cell_type": "code",
   "execution_count": 303,
   "id": "a9c2a55b",
   "metadata": {},
   "outputs": [
    {
     "name": "stdout",
     "output_type": "stream",
     "text": [
      "00011110\n"
     ]
    }
   ],
   "source": [
    "bin_str = \"{0:b}\".format(30)\n",
    "bin_str = bin_str.zfill(8) # adds leading zeros to make 8 digits\n",
    "print(bin_str)\n"
   ]
  },
  {
   "cell_type": "code",
   "execution_count": 304,
   "id": "f05892ca",
   "metadata": {},
   "outputs": [],
   "source": [
    "bin_str=bin(30)"
   ]
  },
  {
   "cell_type": "code",
   "execution_count": 305,
   "id": "5a5e759d",
   "metadata": {},
   "outputs": [
    {
     "data": {
      "text/plain": [
       "'0b11110'"
      ]
     },
     "execution_count": 305,
     "metadata": {},
     "output_type": "execute_result"
    }
   ],
   "source": [
    "bin_str"
   ]
  },
  {
   "cell_type": "code",
   "execution_count": 306,
   "id": "59f1fb37",
   "metadata": {},
   "outputs": [],
   "source": [
    "bin_str=bin_str[2:].zfill(8)"
   ]
  },
  {
   "cell_type": "code",
   "execution_count": 307,
   "id": "bc593e73",
   "metadata": {},
   "outputs": [
    {
     "data": {
      "text/plain": [
       "'00011110'"
      ]
     },
     "execution_count": 307,
     "metadata": {},
     "output_type": "execute_result"
    }
   ],
   "source": [
    "bin_str"
   ]
  },
  {
   "cell_type": "code",
   "execution_count": 308,
   "id": "67b058e7",
   "metadata": {},
   "outputs": [],
   "source": [
    "import numpy as np\n",
    "\n",
    "pulse0 = np.ones( 10 )\n",
    "pulse1 = np.append( np.ones( 5 ), -1*np.ones( 5 ) )\n",
    "N = pulse0.size\n",
    "\n",
    "message = np.genfromtxt(\"geliyor_kılıçdar.csv\", delimiter=',')\n",
    "cols = message.size"
   ]
  },
  {
   "cell_type": "code",
   "execution_count": 309,
   "id": "f095f664",
   "metadata": {},
   "outputs": [
    {
     "data": {
      "text/plain": [
       "1520"
      ]
     },
     "execution_count": 309,
     "metadata": {},
     "output_type": "execute_result"
    }
   ],
   "source": [
    "cols"
   ]
  },
  {
   "cell_type": "code",
   "execution_count": 310,
   "id": "7901e8f4",
   "metadata": {},
   "outputs": [
    {
     "data": {
      "text/plain": [
       "1680"
      ]
     },
     "execution_count": 310,
     "metadata": {},
     "output_type": "execute_result"
    }
   ],
   "source": [
    "21*80"
   ]
  },
  {
   "cell_type": "code",
   "execution_count": 311,
   "id": "c34cfd01",
   "metadata": {},
   "outputs": [
    {
     "data": {
      "text/plain": [
       "array([0.88, 1.11, 1.3 , 1.17, 0.96, 0.97, 1.11, 1.02, 0.76, 0.83])"
      ]
     },
     "execution_count": 311,
     "metadata": {},
     "output_type": "execute_result"
    }
   ],
   "source": [
    "message[0:10]"
   ]
  },
  {
   "cell_type": "code",
   "execution_count": 312,
   "id": "574123d7",
   "metadata": {},
   "outputs": [
    {
     "data": {
      "text/plain": [
       "array([0.88, 1.11, 1.3 , 1.17, 0.96, 0.97, 1.11, 1.02, 0.76, 0.83])"
      ]
     },
     "execution_count": 312,
     "metadata": {},
     "output_type": "execute_result"
    }
   ],
   "source": [
    "\n",
    "h=message[0:10]\n",
    "\n",
    "h"
   ]
  },
  {
   "cell_type": "code",
   "execution_count": 313,
   "id": "db6228f5",
   "metadata": {},
   "outputs": [
    {
     "data": {
      "text/plain": [
       "1.499382380563152"
      ]
     },
     "execution_count": 313,
     "metadata": {},
     "output_type": "execute_result"
    }
   ],
   "source": [
    "matchedfilter(h,pulse1)"
   ]
  },
  {
   "cell_type": "code",
   "execution_count": 314,
   "id": "c63cb953",
   "metadata": {},
   "outputs": [],
   "source": [
    "i=0\n",
    "bits=\"\"\n",
    "while i<cols:\n",
    "    asuka=message[i:i+10]\n",
    "    c1=matchedfilter(asuka,pulse1)\n",
    "    c0=matchedfilter(asuka,pulse0)\n",
    "    if(c1>c0):\n",
    "        bits += '0'\n",
    "    else :\n",
    "        bits += '1'\n",
    "    i += 10\n",
    "        \n",
    "    \n",
    "    "
   ]
  },
  {
   "cell_type": "code",
   "execution_count": 315,
   "id": "8cfa3f4d",
   "metadata": {},
   "outputs": [],
   "source": [
    "bitsize=len(bits)"
   ]
  },
  {
   "cell_type": "code",
   "execution_count": 316,
   "id": "2029797d",
   "metadata": {},
   "outputs": [],
   "source": [
    "i = 0\n",
    "while i < cols :\n",
    "    sig = message[i:i+10]\n",
    "\n",
    "    cos0 = abs( pulse0.dot(sig) )/( np.linalg.norm(pulse0)*np.linalg.norm(sig) )\n",
    "    cos1 = abs( pulse1.dot(sig) )/( np.linalg.norm(pulse1)*np.linalg.norm(sig) )\n",
    "\n",
    "    if cos0 > cos1 :\n",
    "        bits += '0'\n",
    "    else :\n",
    "        bits += '1'\n",
    "    i += 10"
   ]
  },
  {
   "cell_type": "code",
   "execution_count": 317,
   "id": "52345433",
   "metadata": {},
   "outputs": [],
   "source": [
    "outstring=\"\"\n",
    "i=0\n",
    "while i<bitsize:\n",
    "    bitpattern=bits[i:i+8]\n",
    "    asci=int(bitpattern,2)\n",
    "    character=chr(asci)\n",
    "    outstring+=character\n",
    "    i+=8"
   ]
  },
  {
   "cell_type": "code",
   "execution_count": 318,
   "id": "78cf8696",
   "metadata": {},
   "outputs": [
    {
     "data": {
      "text/plain": [
       "'ben kemal,geliyorum'"
      ]
     },
     "execution_count": 318,
     "metadata": {},
     "output_type": "execute_result"
    }
   ],
   "source": [
    "outstring\n"
   ]
  },
  {
   "cell_type": "code",
   "execution_count": 319,
   "id": "40f9826b",
   "metadata": {},
   "outputs": [
    {
     "data": {
      "text/plain": [
       "' '"
      ]
     },
     "execution_count": 319,
     "metadata": {},
     "output_type": "execute_result"
    }
   ],
   "source": [
    "chr(int(bits[24:32],2))"
   ]
  },
  {
   "cell_type": "code",
   "execution_count": 320,
   "id": "08a881c3",
   "metadata": {},
   "outputs": [
    {
     "data": {
      "text/plain": [
       "100000"
      ]
     },
     "execution_count": 320,
     "metadata": {},
     "output_type": "execute_result"
    }
   ],
   "source": [
    "int(bits[24:32])"
   ]
  },
  {
   "cell_type": "code",
   "execution_count": 321,
   "id": "81c037a0",
   "metadata": {},
   "outputs": [
    {
     "data": {
      "text/plain": [
       "304"
      ]
     },
     "execution_count": 321,
     "metadata": {},
     "output_type": "execute_result"
    }
   ],
   "source": [
    "ord(\"İ\")"
   ]
  },
  {
   "cell_type": "code",
   "execution_count": 322,
   "id": "519b9439",
   "metadata": {},
   "outputs": [
    {
     "data": {
      "text/plain": [
       "'0b100110000'"
      ]
     },
     "execution_count": 322,
     "metadata": {},
     "output_type": "execute_result"
    }
   ],
   "source": [
    "bin(304)"
   ]
  },
  {
   "cell_type": "code",
   "execution_count": 323,
   "id": "30907d83",
   "metadata": {},
   "outputs": [
    {
     "data": {
      "text/plain": [
       "'0110001001100101011011100010000001101011011001010110110101100001011011000010110001100111011001010110110001101001011110010110111101110010011101010110110101100010011001010110111000100000011010110110010101101101011000010110110000101100011001110110010101101100011010010111100101101111011100100111010101101101'"
      ]
     },
     "execution_count": 323,
     "metadata": {},
     "output_type": "execute_result"
    }
   ],
   "source": [
    "bits"
   ]
  },
  {
   "cell_type": "code",
   "execution_count": null,
   "id": "f8bd72bd",
   "metadata": {},
   "outputs": [],
   "source": []
  },
  {
   "cell_type": "code",
   "execution_count": null,
   "id": "e30acd2d",
   "metadata": {},
   "outputs": [],
   "source": []
  }
 ],
 "metadata": {
  "kernelspec": {
   "display_name": "Python 3 (ipykernel)",
   "language": "python",
   "name": "python3"
  },
  "language_info": {
   "codemirror_mode": {
    "name": "ipython",
    "version": 3
   },
   "file_extension": ".py",
   "mimetype": "text/x-python",
   "name": "python",
   "nbconvert_exporter": "python",
   "pygments_lexer": "ipython3",
   "version": "3.9.15"
  }
 },
 "nbformat": 4,
 "nbformat_minor": 5
}
