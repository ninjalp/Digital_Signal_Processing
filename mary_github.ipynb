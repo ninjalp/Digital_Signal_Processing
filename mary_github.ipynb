{
 "cells": [
  {
   "cell_type": "code",
   "execution_count": 30,
   "id": "daef2853",
   "metadata": {},
   "outputs": [
    {
     "name": "stdout",
     "output_type": "stream",
     "text": [
      "number = 62, frequency = 932.327523\n",
      "number = 60, frequency = 830.609395\n",
      "number = 62, frequency = 932.327523\n",
      "number = 64, frequency = 1046.502261\n",
      "number = 64, frequency = 1046.502261\n",
      "number = 64, frequency = 1046.502261\n",
      "number = 0, frequency = 25.956544\n",
      "number = 62, frequency = 932.327523\n",
      "number = 62, frequency = 932.327523\n",
      "number = 62, frequency = 932.327523\n",
      "number = 0, frequency = 25.956544\n",
      "number = 64, frequency = 1046.502261\n",
      "number = 67, frequency = 1244.507935\n",
      "number = 67, frequency = 1244.507935\n",
      "number = 0, frequency = 25.956544\n",
      "number = 64, frequency = 1046.502261\n",
      "number = 62, frequency = 932.327523\n",
      "number = 60, frequency = 830.609395\n",
      "number = 62, frequency = 932.327523\n",
      "number = 64, frequency = 1046.502261\n",
      "number = 64, frequency = 1046.502261\n",
      "number = 64, frequency = 1046.502261\n",
      "number = 64, frequency = 1046.502261\n",
      "number = 62, frequency = 932.327523\n",
      "number = 62, frequency = 932.327523\n",
      "number = 64, frequency = 1046.502261\n",
      "number = 62, frequency = 932.327523\n",
      "number = 60, frequency = 830.609395\n",
      "number = 60, frequency = 830.609395\n",
      "number = 64, frequency = 1046.502261\n",
      "number = 62, frequency = 932.327523\n",
      "number = 60, frequency = 830.609395\n",
      "number = 62, frequency = 932.327523\n",
      "number = 64, frequency = 1046.502261\n",
      "number = 64, frequency = 1046.502261\n",
      "number = 64, frequency = 1046.502261\n",
      "number = 0, frequency = 25.956544\n",
      "number = 62, frequency = 932.327523\n",
      "number = 62, frequency = 932.327523\n",
      "number = 64, frequency = 1046.502261\n",
      "number = 62, frequency = 932.327523\n",
      "number = 60, frequency = 830.609395\n",
      "number = 60, frequency = 830.609395\n"
     ]
    }
   ],
   "source": [
    "import numpy as np\n",
    "import soundfile as sf\n",
    "\n",
    "fs = 8000\n",
    "\n",
    "t = np.arange(0, 0.5, 1/fs)\n",
    "\n",
    "notes = np.array([64, 62, 60, 62, 64, 64, 64, 0, 62, 62, 62, 0, 64, 67, 67, 0, 64, 62, 60, 62, 64, 64, 64, 64, 62, 62, 64, 62, 60, 60, 64, 62, 60, 62, 64, 64, 64, 0, 62, 62, 64, 62, 60, 60])\n",
    "\n",
    "length = notes.size\n",
    "#f = 440 * ( 2**((notes[0] - 49)/12) )\n",
    "#print(\"number = %d, frequency = %f\" % (notes[i], f))\n",
    "output = np.cos(2*np.pi*f*t)\n",
    "\n",
    "i = 1\n",
    "while i < length :\n",
    "    f = 440 * ( 2**((notes[i] - 49)/12) )\n",
    "    print(\"number = %d, frequency = %f\" % (notes[i], f))\n",
    "    x = np.cos(2*np.pi*f*t)\n",
    "    output = np.concatenate([output, x])\n",
    "\n",
    "    i += 1\n",
    "\n",
    "sf.write(\"mary_github.wav\", output, fs)\n",
    "\n"
   ]
  },
  {
   "cell_type": "code",
   "execution_count": null,
   "id": "e2097fc4",
   "metadata": {},
   "outputs": [],
   "source": []
  },
  {
   "cell_type": "code",
   "execution_count": null,
   "id": "e8a56a6c",
   "metadata": {},
   "outputs": [],
   "source": []
  }
 ],
 "metadata": {
  "kernelspec": {
   "display_name": "Python 3 (ipykernel)",
   "language": "python",
   "name": "python3"
  },
  "language_info": {
   "codemirror_mode": {
    "name": "ipython",
    "version": 3
   },
   "file_extension": ".py",
   "mimetype": "text/x-python",
   "name": "python",
   "nbconvert_exporter": "python",
   "pygments_lexer": "ipython3",
   "version": "3.9.15"
  }
 },
 "nbformat": 4,
 "nbformat_minor": 5
}
