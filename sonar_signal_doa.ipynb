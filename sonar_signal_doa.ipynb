{
 "cells": [
  {
   "cell_type": "code",
   "execution_count": 1,
   "id": "699e91e3",
   "metadata": {},
   "outputs": [],
   "source": [
    "import numpy as np\n",
    "import matplotlib.pyplot as plt"
   ]
  },
  {
   "cell_type": "code",
   "execution_count": 2,
   "id": "588840a5",
   "metadata": {},
   "outputs": [],
   "source": [
    "sonar_data=np.load(\"project01.npy\")"
   ]
  },
  {
   "cell_type": "code",
   "execution_count": 4,
   "id": "2093576d",
   "metadata": {},
   "outputs": [
    {
     "data": {
      "text/plain": [
       "(315000, 20)"
      ]
     },
     "execution_count": 4,
     "metadata": {},
     "output_type": "execute_result"
    }
   ],
   "source": [
    "sonar_data.shape\n",
    "\n",
    "# 20 sensörden 3150000 veri gelmiş\n"
   ]
  },
  {
   "cell_type": "code",
   "execution_count": 5,
   "id": "c99c24f3",
   "metadata": {},
   "outputs": [
    {
     "name": "stdout",
     "output_type": "stream",
     "text": [
      "Estimated DoA angle: 68.0\n"
     ]
    }
   ],
   "source": [
    "import numpy as np\n",
    "import scipy.linalg as la\n",
    "\n",
    "def min_norm_doa_correlation(data, num_antennas, wavelength):\n",
    "    # korelasyon matrisi hesaplanması\n",
    "    correlation_matrix = np.corrcoef(data, rowvar=False)\n",
    "    \n",
    "    # pseudoi inveverse matrisin korelasyon matrisinden hesaplanması\n",
    "    pseudoinv_corr_matrix = np.linalg.pinv(correlation_matrix)\n",
    "    \n",
    "    # farklı açılar için spectrum \n",
    "    num_angles = 180  \n",
    "    spatial_spectrum = np.zeros(num_angles)\n",
    "    \n",
    "    for angle_idx in range(num_angles):\n",
    "        angle = np.deg2rad(angle_idx)\n",
    "        steering_vector = np.exp(-1j * 2 * np.pi * np.arange(num_antennas) * np.sin(angle))\n",
    "        \n",
    "        #minimum norm spatial \n",
    "        spectrum = np.dot(steering_vector.conj(), np.dot(pseudoinv_corr_matrix, steering_vector))\n",
    "        spatial_spectrum[angle_idx] = np.abs(spectrum)\n",
    "    \n",
    "    # en yüksek değer hangi açıda\n",
    "    estimated_doa_idx = np.argmax(spatial_spectrum)\n",
    "    estimated_doa = np.rad2deg(np.arcsin(np.sin(np.deg2rad(estimated_doa_idx))))\n",
    "    \n",
    "    return estimated_doa\n",
    "\n",
    "# \n",
    "num_samples = 315000\n",
    "num_antennas = 20\n",
    "data = sonar_data\n",
    "\n",
    " \n",
    "wavelength =1\n",
    "\n",
    "estimated_doa = min_norm_doa_correlation(data, num_antennas, wavelength)\n",
    "print(\"Estimated DoA angle:\", estimated_doa)\n"
   ]
  },
  {
   "cell_type": "code",
   "execution_count": 6,
   "id": "ec670176",
   "metadata": {},
   "outputs": [],
   "source": [
    "# hedef 68 derece de "
   ]
  },
  {
   "cell_type": "code",
   "execution_count": null,
   "id": "e74770f4",
   "metadata": {},
   "outputs": [],
   "source": []
  }
 ],
 "metadata": {
  "kernelspec": {
   "display_name": "Python 3 (ipykernel)",
   "language": "python",
   "name": "python3"
  },
  "language_info": {
   "codemirror_mode": {
    "name": "ipython",
    "version": 3
   },
   "file_extension": ".py",
   "mimetype": "text/x-python",
   "name": "python",
   "nbconvert_exporter": "python",
   "pygments_lexer": "ipython3",
   "version": "3.9.15"
  }
 },
 "nbformat": 4,
 "nbformat_minor": 5
}
